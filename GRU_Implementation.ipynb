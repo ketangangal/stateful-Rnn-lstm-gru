{
 "cells": [
  {
   "cell_type": "code",
   "execution_count": 1,
   "id": "dcc59e74",
   "metadata": {},
   "outputs": [],
   "source": [
    "import matplotlib.pyplot as plt\n",
    "import seaborn as sns\n",
    "import numpy as np\n",
    "import pandas as pd\n",
    "import torch\n",
    "import torch.nn as nn\n",
    "import torch.optim as optim \n",
    "from torch.utils.data import Dataset, DataLoader"
   ]
  },
  {
   "cell_type": "code",
   "execution_count": 2,
   "id": "cb596db9",
   "metadata": {},
   "outputs": [
    {
     "data": {
      "text/plain": [
       "'Done'"
      ]
     },
     "execution_count": 2,
     "metadata": {},
     "output_type": "execute_result"
    }
   ],
   "source": [
    "def set_seed(seed):\n",
    "    np.random.seed(seed)\n",
    "    torch.manual_seed(seed)\n",
    "    torch.cuda.manual_seed(seed)\n",
    "    return \"Done\"\n",
    "\n",
    "set_seed(42)"
   ]
  },
  {
   "cell_type": "code",
   "execution_count": 3,
   "id": "cbd83d27",
   "metadata": {},
   "outputs": [
    {
     "name": "stdout",
     "output_type": "stream",
     "text": [
      "[  0.   1.   2.   3.   4.   5.   6.   7.   8.   9.  10.  11.  12.  13.\n",
      "  14.  15.  16.  17.  18.  19.  20.  21.  22.  23.  24.  25.  26.  27.\n",
      "  28.  29.  30.  31.  32.  33.  34.  35.  36.  37.  38.  39.  40.  41.\n",
      "  42.  43.  44.  45.  46.  47.  48.  49.  50.  51.  52.  53.  54.  55.\n",
      "  56.  57.  58.  59.  60.  61.  62.  63.  64.  65.  66.  67.  68.  69.\n",
      "  70.  71.  72.  73.  74.  75.  76.  77.  78.  79.  80.  81.  82.  83.\n",
      "  84.  85.  86.  87.  88.  89.  90.  91.  92.  93.  94.  95.  96.  97.\n",
      "  98.  99. 100. 101. 102. 103. 104. 105. 106. 107. 108. 109. 110. 111.\n",
      " 112. 113. 114. 115. 116. 117. 118. 119.]\n"
     ]
    }
   ],
   "source": [
    "array = np.linspace(0,119,120)\n",
    "print(array)"
   ]
  },
  {
   "cell_type": "code",
   "execution_count": 4,
   "id": "88e48ac1",
   "metadata": {},
   "outputs": [],
   "source": [
    "test_size = 20\n",
    "train_set = array[:-test_size]\n",
    "test_set = array[-test_size:]"
   ]
  },
  {
   "cell_type": "code",
   "execution_count": 5,
   "id": "96220b57",
   "metadata": {},
   "outputs": [
    {
     "data": {
      "text/plain": [
       "[<matplotlib.lines.Line2D at 0x15375f108e0>]"
      ]
     },
     "execution_count": 5,
     "metadata": {},
     "output_type": "execute_result"
    },
    {
     "data": {
      "image/png": "[encoded data removed]",
      "text/plain": [
       "<Figure size 432x288 with 1 Axes>"
      ]
     },
     "metadata": {
      "needs_background": "light"
     },
     "output_type": "display_data"
    }
   ],
   "source": [
    "plt.plot(train_set,linewidth=4)\n",
    "plt.grid(True)\n",
    "plt.plot(test_set,range(100,120),linewidth=4)"
   ]
  },
  {
   "cell_type": "code",
   "execution_count": 6,
   "id": "100a7c5b",
   "metadata": {},
   "outputs": [],
   "source": [
    "def input_data(data,ws):\n",
    "    out = []\n",
    "    \n",
    "    for i in range(len(data)-ws):\n",
    "        feature = data[i:i+ws+1]\n",
    "        out.append(feature)\n",
    "        \n",
    "    df = pd.DataFrame(out)\n",
    "    return df"
   ]
  },
  {
   "cell_type": "code",
   "execution_count": 7,
   "id": "8c41821e",
   "metadata": {},
   "outputs": [],
   "source": [
    "class CustomDatasetTrain(Dataset):\n",
    "    def __init__(self):\n",
    "        self.df = input_data(train_set,3)\n",
    "        self.x = torch.from_numpy(self.df.drop(3,axis=1).to_numpy()).float()\n",
    "        self.y = torch.from_numpy(self.df[3].to_numpy()).float()\n",
    "        self.n_sample = self.df.shape[0]\n",
    "\n",
    "    def __getitem__(self, index):\n",
    "        return self.x[index],self.y[index]\n",
    "    \n",
    "    def __len__(self):\n",
    "        return self.n_sample\n",
    "    \n",
    "train_data= CustomDatasetTrain()"
   ]
  },
  {
   "cell_type": "code",
   "execution_count": 8,
   "id": "6749785c",
   "metadata": {},
   "outputs": [],
   "source": [
    "class CustomDatasetTest(Dataset):\n",
    "    def __init__(self):\n",
    "        self.df = input_data(test_set,3)\n",
    "        self.x = torch.from_numpy(self.df.drop(3,axis=1).to_numpy()).float()\n",
    "        self.y = torch.from_numpy(self.df[3].to_numpy()).float()\n",
    "        self.n_sample = self.df.shape[0]\n",
    "\n",
    "    def __getitem__(self, index):\n",
    "        return self.x[index],self.y[index]\n",
    "    \n",
    "    def __len__(self):\n",
    "        return self.n_sample\n",
    "    \n",
    "test_data = CustomDatasetTest()"
   ]
  },
  {
   "cell_type": "code",
   "execution_count": 14,
   "id": "d597ed3f",
   "metadata": {},
   "outputs": [],
   "source": [
    "batch_size = 5\n",
    "\n",
    "train_loader = DataLoader(train_data,batch_size)\n",
    "test_loader = DataLoader(test_data,batch_size)"
   ]
  },
  {
   "cell_type": "code",
   "execution_count": 124,
   "id": "172246ac",
   "metadata": {},
   "outputs": [],
   "source": [
    "class GRU(nn.Module):\n",
    "    def __init__(self,input_size, hidden_size, num_layers, linear_output, batch_size, bidirectional, batch_first):\n",
    "        super().__init__()\n",
    "        \n",
    "        self.gru = nn.GRU(input_size = input_size, \n",
    "                          hidden_size = hidden_size, \n",
    "                          num_layers = num_layers,\n",
    "                          batch_first= batch_first,\n",
    "                          bidirectional = bidirectional)\n",
    "        \n",
    "        self.linear = nn.Linear(hidden_size,12)\n",
    "        self.linear_1 = nn.Linear(12,1)\n",
    "    \n",
    "    def forward(self,input_data):\n",
    "        input_ = input_data.reshape(-1,3,1)\n",
    "        output, hidden = self.gru(input_)\n",
    "        pred = self.linear(hidden)\n",
    "        pred = self.linear_1(pred)\n",
    "        return pred "
   ]
  },
  {
   "cell_type": "code",
   "execution_count": 211,
   "id": "b00da48b",
   "metadata": {},
   "outputs": [],
   "source": [
    "model = GRU(input_size = 1,\n",
    "            hidden_size =100,\n",
    "            num_layers = 1,\n",
    "            linear_output = 1,\n",
    "            batch_size= batch_size,\n",
    "            bidirectional= False,\n",
    "            batch_first= True)\n",
    "\n",
    "\n",
    "loss_func = nn.MSELoss()\n",
    "optimizer = torch.optim.Adagrad(model.parameters(),lr=0.1)"
   ]
  },
  {
   "cell_type": "code",
   "execution_count": 212,
   "id": "2033e0a2",
   "metadata": {},
   "outputs": [
    {
     "name": "stdout",
     "output_type": "stream",
     "text": [
      "GRU(\n",
      "  (gru): GRU(1, 100, batch_first=True)\n",
      "  (linear): Linear(in_features=100, out_features=12, bias=True)\n",
      "  (linear_1): Linear(in_features=12, out_features=1, bias=True)\n",
      ")\n"
     ]
    }
   ],
   "source": [
    "print(model)"
   ]
  },
  {
   "cell_type": "code",
   "execution_count": 213,
   "id": "2c186749",
   "metadata": {
    "scrolled": true
   },
   "outputs": [
    {
     "name": "stdout",
     "output_type": "stream",
     "text": [
      "8.358963966369629\n",
      "27.355655670166016\n",
      "32.170440673828125\n",
      "46.75532913208008\n",
      "11.89326286315918\n",
      "10.926894187927246\n",
      "57.55889129638672\n",
      "24.86859893798828\n",
      "1.6075060367584229\n",
      "9.08100700378418\n",
      "20.221107482910156\n",
      "12.09842300415039\n",
      "2.9582228660583496\n",
      "21.744216918945312\n",
      "0.12303908914327621\n",
      "6.754521369934082\n",
      "0.1741228848695755\n",
      "0.7165827751159668\n",
      "2.969858407974243\n",
      "8.666732788085938\n",
      "13.001710891723633\n",
      "2.740452289581299\n",
      "0.2762361764907837\n",
      "12.484188079833984\n",
      "4.519959449768066\n",
      "2.0541563034057617\n",
      "7.439686298370361\n",
      "2.8831379413604736\n",
      "8.621054649353027\n",
      "11.886907577514648\n",
      "3.2952213287353516\n",
      "0.3184678852558136\n",
      "2.732790946960449\n",
      "1.8779836893081665\n",
      "0.6425650715827942\n",
      "15.629262924194336\n",
      "13.66583251953125\n",
      "4.328098773956299\n",
      "5.399316787719727\n",
      "6.26401424407959\n",
      "0.6301209330558777\n",
      "0.5305061340332031\n",
      "0.2785472571849823\n",
      "13.078117370605469\n",
      "23.144073486328125\n",
      "5.031002044677734\n",
      "4.578484535217285\n",
      "3.9692578315734863\n",
      "3.0968496799468994\n",
      "1.0408354997634888\n",
      "0.178994283080101\n",
      "0.8543654084205627\n",
      "0.11275139451026917\n",
      "0.5950565934181213\n",
      "0.2023373693227768\n",
      "1.2865257263183594\n",
      "0.9759566783905029\n",
      "2.8501882553100586\n",
      "0.1281958371400833\n",
      "1.89231276512146\n",
      "3.001491069793701\n",
      "1.560400128364563\n",
      "1.8784713745117188\n",
      "2.9328293800354004\n",
      "1.8947713375091553\n",
      "1.298712968826294\n",
      "2.8646085262298584\n",
      "0.24161525070667267\n",
      "2.2226734161376953\n",
      "2.8707773685455322\n",
      "2.1962902545928955\n",
      "0.2925247251987457\n",
      "0.43571382761001587\n",
      "0.4058072566986084\n",
      "1.2217350006103516\n",
      "2.281409502029419\n",
      "0.07251105457544327\n",
      "1.2601419687271118\n",
      "1.280657410621643\n",
      "0.5109444856643677\n",
      "0.0723540335893631\n",
      "0.6807553172111511\n",
      "0.3829033076763153\n",
      "0.6629343628883362\n",
      "0.21421591937541962\n",
      "0.6375080347061157\n",
      "0.1678735762834549\n",
      "0.561211347579956\n",
      "0.11814320832490921\n",
      "0.48237472772598267\n",
      "0.0900890976190567\n",
      "0.4159015715122223\n",
      "0.07746487110853195\n",
      "0.3678882420063019\n",
      "0.07469367235898972\n",
      "0.33592140674591064\n",
      "0.07601122558116913\n",
      "0.3182172179222107\n",
      "0.07799077033996582\n",
      "0.313935786485672\n",
      "0.07876533269882202\n",
      "0.32252037525177\n",
      "0.07794970273971558\n",
      "0.3464046120643616\n",
      "0.07722176611423492\n",
      "0.390085905790329\n",
      "0.08199866116046906\n",
      "0.45839765667915344\n",
      "0.10246175527572632\n",
      "0.5495061278343201\n",
      "0.14775799214839935\n",
      "0.6450226902961731\n",
      "0.20752379298210144\n",
      "0.7146061658859253\n",
      "0.2527567446231842\n",
      "0.7493230104446411\n",
      "0.27409952878952026\n",
      "0.7610089182853699\n",
      "0.28080257773399353\n",
      "0.7609739303588867\n",
      "0.27887406945228577\n",
      "0.7549676299095154\n",
      "0.2718273103237152\n",
      "0.7455463409423828\n",
      "0.2611650228500366\n",
      "0.7331725358963013\n",
      "0.2479063719511032\n",
      "0.7183243632316589\n",
      "0.23322294652462006\n",
      "0.7010892629623413\n",
      "0.21736857295036316\n",
      "0.6813132762908936\n",
      "0.2007543444633484\n",
      "0.6587366461753845\n",
      "0.18328340351581573\n",
      "0.633344292640686\n",
      "0.16566970944404602\n",
      "0.6051921844482422\n",
      "0.14809289574623108\n",
      "0.5739914774894714\n",
      "0.1310289204120636\n",
      "0.5401229858398438\n",
      "0.11535611003637314\n",
      "0.5042176246643066\n",
      "0.10200491547584534\n",
      "0.46710652112960815\n",
      "0.09154879301786423\n",
      "0.4290071129798889\n",
      "0.08446141332387924\n",
      "0.39065009355545044\n",
      "0.08115360885858536\n",
      "0.35302281379699707\n",
      "0.08174704015254974\n",
      "0.3170223832130432\n",
      "0.08607186377048492\n",
      "0.2836516797542572\n",
      "0.09360196441411972\n",
      "0.25349894165992737\n",
      "0.10351491719484329\n",
      "0.22749583423137665\n",
      "0.11459971219301224\n",
      "0.20610058307647705\n",
      "0.1255996823310852\n",
      "0.1892298012971878\n",
      "0.13537989556789398\n",
      "0.1767011284828186\n",
      "0.14304335415363312\n",
      "0.16803351044654846\n",
      "0.1483631134033203\n",
      "0.16221392154693604\n",
      "0.1515999585390091\n",
      "0.15853138267993927\n",
      "0.15319009125232697\n",
      "0.1562361717224121\n",
      "0.15364067256450653\n",
      "0.15472228825092316\n",
      "0.15348315238952637\n",
      "0.1535513699054718\n",
      "0.152963325381279\n",
      "0.15259528160095215\n",
      "0.15215861797332764\n",
      "0.15164929628372192\n",
      "0.1512901484966278\n",
      "0.15066061913967133\n",
      "0.1502208709716797\n",
      "0.1497698873281479\n",
      "0.14900968968868256\n",
      "0.14865535497665405\n",
      "0.14780941605567932\n",
      "0.14746326208114624\n",
      "0.14657214283943176\n",
      "0.14594876766204834\n",
      "0.14529816806316376\n",
      "0.14451904594898224\n",
      "0.1437211036682129\n",
      "0.14288181066513062\n",
      "0.14214599132537842\n",
      "0.14113155007362366\n",
      "0.14026659727096558\n",
      "0.13923490047454834\n"
     ]
    }
   ],
   "source": [
    "epochs = 200\n",
    "loss = 0\n",
    "\n",
    "for epoch in range(epochs):\n",
    "    for data,label in train_loader:\n",
    "        optimizer.zero_grad()\n",
    "        \n",
    "        pred = model.forward(data)\n",
    "        loss = loss_func(pred,label.reshape(1,-1,1))\n",
    "        loss.backward()\n",
    "        \n",
    "        optimizer.step()\n",
    "    print(loss.item())"
   ]
  },
  {
   "cell_type": "code",
   "execution_count": 214,
   "id": "c743c3a2",
   "metadata": {
    "scrolled": true
   },
   "outputs": [
    {
     "name": "stdout",
     "output_type": "stream",
     "text": [
      "tensor([103., 104., 105., 106., 107.]) tensor([[[100.2203],\n",
      "         [100.5615],\n",
      "         [100.9048],\n",
      "         [101.2533],\n",
      "         [101.6091]]])\n",
      "tensor([108., 109., 110., 111., 112.]) tensor([[[101.9728],\n",
      "         [102.3439],\n",
      "         [102.7210],\n",
      "         [103.1019],\n",
      "         [103.4836]]])\n",
      "tensor([113., 114., 115., 116., 117.]) tensor([[[103.8631],\n",
      "         [104.2369],\n",
      "         [104.6021],\n",
      "         [104.9557],\n",
      "         [105.2957]]])\n",
      "tensor([118., 119.]) tensor([[[105.6202],\n",
      "         [105.9282]]])\n",
      "Loss : 85.63278198242188\n"
     ]
    }
   ],
   "source": [
    "model.eval()\n",
    "loss = 0\n",
    "batch = 0\n",
    "original = []\n",
    "predi = []\n",
    "with torch.no_grad():\n",
    "    for data, label in test_loader:\n",
    "        pred = model.forward(data)\n",
    "        original.extend(label.tolist())\n",
    "        predi.extend(pred[0].reshape(1,-1).tolist())\n",
    "        loss += loss_func(pred,label.reshape(1,-1,1))\n",
    "        print(label,pred)\n",
    "        batch+=1\n",
    "        \n",
    "    print(f\"Loss : {loss/batch}\")"
   ]
  },
  {
   "cell_type": "code",
   "execution_count": 215,
   "id": "be13f2cc",
   "metadata": {},
   "outputs": [
    {
     "data": {
      "text/plain": [
       "[<matplotlib.lines.Line2D at 0x153016f58b0>]"
      ]
     },
     "execution_count": 215,
     "metadata": {},
     "output_type": "execute_result"
    },
    {
     "data": {
      "image/png": "[encoded data removed]",
      "text/plain": [
       "<Figure size 432x288 with 1 Axes>"
      ]
     },
     "metadata": {
      "needs_background": "light"
     },
     "output_type": "display_data"
    }
   ],
   "source": [
    "test = []\n",
    "for i in predi:\n",
    "    test.extend(i)\n",
    "\n",
    "#test = [int(i) for i in test]\n",
    "plt.plot(original)\n",
    "plt.plot(test)"
   ]
  },
  {
   "cell_type": "code",
   "execution_count": null,
   "id": "4bef5989",
   "metadata": {},
   "outputs": [],
   "source": []
  },
  {
   "cell_type": "code",
   "execution_count": null,
   "id": "86e2de76",
   "metadata": {},
   "outputs": [],
   "source": []
  }
 ],
 "metadata": {
  "kernelspec": {
   "display_name": "Python 3 (ipykernel)",
   "language": "python",
   "name": "python3"
  },
  "language_info": {
   "codemirror_mode": {
    "name": "ipython",
    "version": 3
   },
   "file_extension": ".py",
   "mimetype": "text/x-python",
   "name": "python",
   "nbconvert_exporter": "python",
   "pygments_lexer": "ipython3",
   "version": "3.8.0"
  }
 },
 "nbformat": 4,
 "nbformat_minor": 5
}
