{
 "cells": [
  {
   "cell_type": "code",
   "execution_count": 1,
   "id": "85d9d6fc",
   "metadata": {},
   "outputs": [],
   "source": [
    "import matplotlib.pyplot as plt\n",
    "import seaborn as sns\n",
    "import numpy as np\n",
    "import pandas as pd\n",
    "import torch\n",
    "import torch.nn as nn\n",
    "import torch.optim as optim \n",
    "from torch.utils.data import Dataset, DataLoader"
   ]
  },
  {
   "cell_type": "code",
   "execution_count": 2,
   "id": "03cf51e2",
   "metadata": {},
   "outputs": [
    {
     "data": {
      "text/plain": [
       "'Done'"
      ]
     },
     "execution_count": 2,
     "metadata": {},
     "output_type": "execute_result"
    }
   ],
   "source": [
    "def set_seed(seed):\n",
    "    np.random.seed(seed)\n",
    "    torch.manual_seed(seed)\n",
    "    torch.cuda.manual_seed(seed)\n",
    "    return \"Done\"\n",
    "\n",
    "set_seed(42)"
   ]
  },
  {
   "cell_type": "code",
   "execution_count": 3,
   "id": "cc336b97",
   "metadata": {},
   "outputs": [
    {
     "name": "stdout",
     "output_type": "stream",
     "text": [
      "[  0.   1.   2.   3.   4.   5.   6.   7.   8.   9.  10.  11.  12.  13.\n",
      "  14.  15.  16.  17.  18.  19.  20.  21.  22.  23.  24.  25.  26.  27.\n",
      "  28.  29.  30.  31.  32.  33.  34.  35.  36.  37.  38.  39.  40.  41.\n",
      "  42.  43.  44.  45.  46.  47.  48.  49.  50.  51.  52.  53.  54.  55.\n",
      "  56.  57.  58.  59.  60.  61.  62.  63.  64.  65.  66.  67.  68.  69.\n",
      "  70.  71.  72.  73.  74.  75.  76.  77.  78.  79.  80.  81.  82.  83.\n",
      "  84.  85.  86.  87.  88.  89.  90.  91.  92.  93.  94.  95.  96.  97.\n",
      "  98.  99. 100. 101. 102. 103. 104. 105. 106. 107. 108. 109. 110. 111.\n",
      " 112. 113. 114. 115. 116. 117. 118. 119.]\n"
     ]
    }
   ],
   "source": [
    "array = np.linspace(0,119,120)\n",
    "print(array)"
   ]
  },
  {
   "cell_type": "code",
   "execution_count": 4,
   "id": "e391d7e4",
   "metadata": {},
   "outputs": [],
   "source": [
    "test_size = 20\n",
    "train_set = array[:-test_size]\n",
    "test_set = array[-test_size:]"
   ]
  },
  {
   "cell_type": "code",
   "execution_count": 33,
   "id": "3267fdee",
   "metadata": {},
   "outputs": [
    {
     "data": {
      "text/plain": [
       "[<matplotlib.lines.Line2D at 0x23221532ac0>]"
      ]
     },
     "execution_count": 33,
     "metadata": {},
     "output_type": "execute_result"
    },
    {
     "data": {
      "image/png": "[encoded data removed]",
      "text/plain": [
       "<Figure size 432x288 with 1 Axes>"
      ]
     },
     "metadata": {
      "needs_background": "light"
     },
     "output_type": "display_data"
    }
   ],
   "source": [
    "plt.plot(train_set,linewidth=4)\n",
    "plt.grid(True)\n",
    "plt.plot(test_set,range(100,120),linewidth=4)"
   ]
  },
  {
   "cell_type": "code",
   "execution_count": 34,
   "id": "c879a2a1",
   "metadata": {},
   "outputs": [],
   "source": [
    "def input_data(data,ws):\n",
    "    out = []\n",
    "    \n",
    "    for i in range(len(data)-ws):\n",
    "        feature = data[i:i+ws+1]\n",
    "        out.append(feature)\n",
    "        \n",
    "    df = pd.DataFrame(out)\n",
    "    return df"
   ]
  },
  {
   "cell_type": "code",
   "execution_count": 35,
   "id": "cb7c9764",
   "metadata": {},
   "outputs": [],
   "source": [
    "class CustomDatasetTrain(Dataset):\n",
    "    def __init__(self):\n",
    "        self.df = input_data(train_set,3)\n",
    "        self.x = torch.from_numpy(self.df.drop(3,axis=1).to_numpy()).float()\n",
    "        self.y = torch.from_numpy(self.df[3].to_numpy()).float()\n",
    "        self.n_sample = self.df.shape[0]\n",
    "\n",
    "    def __getitem__(self, index):\n",
    "        return self.x[index],self.y[index]\n",
    "    \n",
    "    def __len__(self):\n",
    "        return self.n_sample\n",
    "    \n",
    "train_data= CustomDatasetTrain()"
   ]
  },
  {
   "cell_type": "code",
   "execution_count": 36,
   "id": "94e7f576",
   "metadata": {},
   "outputs": [],
   "source": [
    "class CustomDatasetTest(Dataset):\n",
    "    def __init__(self):\n",
    "        self.df = input_data(test_set,3)\n",
    "        self.x = torch.from_numpy(self.df.drop(3,axis=1).to_numpy()).float()\n",
    "        self.y = torch.from_numpy(self.df[3].to_numpy()).float()\n",
    "        self.n_sample = self.df.shape[0]\n",
    "\n",
    "    def __getitem__(self, index):\n",
    "        return self.x[index],self.y[index]\n",
    "    \n",
    "    def __len__(self):\n",
    "        return self.n_sample\n",
    "    \n",
    "test_data = CustomDatasetTest()"
   ]
  },
  {
   "cell_type": "code",
   "execution_count": 37,
   "id": "dc41a0a8",
   "metadata": {},
   "outputs": [],
   "source": [
    "batch_size = 5\n",
    "\n",
    "train_loader = DataLoader(train_data,batch_size)\n",
    "test_loader = DataLoader(test_data,batch_size)"
   ]
  },
  {
   "cell_type": "code",
   "execution_count": 38,
   "id": "9553e2ad",
   "metadata": {},
   "outputs": [],
   "source": [
    "class LSTM(nn.Module):\n",
    "    def __init__(self,input_size, hidden_size, num_layers, linear_output, batch_size, bidirectional, batch_first):\n",
    "        super().__init__()\n",
    "        \n",
    "        self.lstm = nn.LSTM(input_size = input_size, \n",
    "                           hidden_size = hidden_size, \n",
    "                           num_layers = num_layers,\n",
    "                           batch_first= batch_first,\n",
    "                           bidirectional = bidirectional)\n",
    "        \n",
    "        self.linear = nn.Linear(hidden_size,12)\n",
    "        self.linear_1 = nn.Linear(12,1)\n",
    "    \n",
    "    def forward(self,input_data):\n",
    "        input_ = input_data.reshape(-1,3,1)\n",
    "        output, (hidden,cell) = self.lstm(input_)\n",
    "        pred = self.linear(hidden)\n",
    "        pred = self.linear_1(pred)\n",
    "        return pred "
   ]
  },
  {
   "cell_type": "code",
   "execution_count": 50,
   "id": "2e2461af",
   "metadata": {},
   "outputs": [],
   "source": [
    "model = LSTM(input_size = 1,\n",
    "            hidden_size =100,\n",
    "            num_layers = 1,\n",
    "            linear_output = 1,\n",
    "            batch_size= batch_size,\n",
    "            bidirectional= False,\n",
    "            batch_first= True)\n",
    "\n",
    "\n",
    "loss_func = nn.MSELoss()\n",
    "optimizer = torch.optim.Adagrad(model.parameters(),lr=0.1)"
   ]
  },
  {
   "cell_type": "code",
   "execution_count": 51,
   "id": "70b46675",
   "metadata": {},
   "outputs": [
    {
     "name": "stdout",
     "output_type": "stream",
     "text": [
      "LSTM(\n",
      "  (lstm): LSTM(1, 100, batch_first=True)\n",
      "  (linear): Linear(in_features=100, out_features=12, bias=True)\n",
      "  (linear_1): Linear(in_features=12, out_features=1, bias=True)\n",
      ")\n"
     ]
    }
   ],
   "source": [
    "print(model)"
   ]
  },
  {
   "cell_type": "code",
   "execution_count": 52,
   "id": "c5a78bd1",
   "metadata": {},
   "outputs": [
    {
     "name": "stdout",
     "output_type": "stream",
     "text": [
      "7.261667728424072\n",
      "6.281016826629639\n",
      "62.613304138183594\n",
      "513.844970703125\n",
      "27.004194259643555\n",
      "24.64120864868164\n",
      "117.8323974609375\n",
      "8.100905418395996\n",
      "0.2804059684276581\n",
      "0.384126752614975\n",
      "2.750518321990967\n",
      "39.18523406982422\n",
      "9.35658073425293\n",
      "8.14185905456543\n",
      "22.531269073486328\n",
      "5.924049377441406\n",
      "4.369957447052002\n",
      "5.368456840515137\n",
      "20.289749145507812\n",
      "6.258790969848633\n",
      "2.98317289352417\n",
      "4.19378137588501\n",
      "13.150188446044922\n",
      "3.4068708419799805\n",
      "1.0066907405853271\n",
      "0.12417532503604889\n",
      "10.850921630859375\n",
      "2.77927303314209\n",
      "1.670929193496704\n",
      "2.7157976627349854\n",
      "2.442225456237793\n",
      "2.3574037551879883\n",
      "0.6970037221908569\n",
      "0.17844310402870178\n",
      "0.9293788075447083\n",
      "3.5343337059020996\n",
      "2.8454394340515137\n",
      "3.1379432678222656\n",
      "3.0461714267730713\n",
      "2.99029541015625\n",
      "13.935564041137695\n",
      "4.337085247039795\n",
      "1.7315173149108887\n",
      "0.0535053014755249\n",
      "5.637005805969238\n",
      "1.4958786964416504\n",
      "0.007551191840320826\n",
      "0.3627510070800781\n",
      "0.046694446355104446\n",
      "0.083949975669384\n",
      "2.187309741973877\n",
      "0.9795809984207153\n",
      "0.04004603251814842\n",
      "0.18465501070022583\n",
      "0.28921473026275635\n",
      "0.028118709102272987\n",
      "0.4236845374107361\n",
      "0.23842929303646088\n",
      "0.024796687066555023\n",
      "0.5966129302978516\n",
      "1.617781162261963\n",
      "5.850141525268555\n",
      "15.620542526245117\n",
      "4.624127388000488\n",
      "66.65225219726562\n",
      "5.974290370941162\n",
      "3.56445050239563\n",
      "1.2901862859725952\n",
      "0.15022143721580505\n",
      "0.054665274918079376\n",
      "0.10505764931440353\n",
      "0.10884620249271393\n",
      "0.04680262506008148\n",
      "0.0416572131216526\n",
      "0.1911352574825287\n",
      "0.41818511486053467\n",
      "0.5387505292892456\n",
      "0.7697057127952576\n",
      "1.9007004499435425\n",
      "15.006953239440918\n",
      "22.035831451416016\n",
      "1.6011086702346802\n",
      "0.9831863641738892\n",
      "0.7638115882873535\n",
      "0.2615283131599426\n",
      "0.6805534958839417\n",
      "1.2710490226745605\n",
      "2.3957810401916504\n",
      "3.1459126472473145\n",
      "2.884204149246216\n",
      "2.5489797592163086\n",
      "2.8004374504089355\n",
      "3.37435245513916\n",
      "3.4149832725524902\n",
      "2.893137216567993\n",
      "2.7325339317321777\n",
      "3.3411922454833984\n",
      "3.7609658241271973\n",
      "2.3962507247924805\n",
      "0.5458736419677734\n"
     ]
    }
   ],
   "source": [
    "epochs = 100\n",
    "loss = 0\n",
    "\n",
    "for epoch in range(epochs):\n",
    "    for data,label in train_loader:\n",
    "        optimizer.zero_grad()\n",
    "        \n",
    "        pred = model.forward(data)\n",
    "        loss = loss_func(pred,label.reshape(1,-1,1))\n",
    "        loss.backward()\n",
    "        \n",
    "        optimizer.step()\n",
    "    print(loss.item())"
   ]
  },
  {
   "cell_type": "code",
   "execution_count": 53,
   "id": "4b354d38",
   "metadata": {},
   "outputs": [
    {
     "name": "stdout",
     "output_type": "stream",
     "text": [
      "tensor([103., 104., 105., 106., 107.]) tensor([[[102.8363],\n",
      "         [103.5428],\n",
      "         [104.2391],\n",
      "         [104.9305],\n",
      "         [105.6216]]])\n",
      "tensor([108., 109., 110., 111., 112.]) tensor([[[106.3168],\n",
      "         [107.0202],\n",
      "         [107.7357],\n",
      "         [108.4667],\n",
      "         [109.2159]]])\n",
      "tensor([113., 114., 115., 116., 117.]) tensor([[[109.9847],\n",
      "         [110.7719],\n",
      "         [111.5731],\n",
      "         [112.3798],\n",
      "         [113.1786]]])\n",
      "tensor([118., 119.]) tensor([[[113.9524],\n",
      "         [114.6826]]])\n",
      "Loss : 8.821504592895508\n"
     ]
    }
   ],
   "source": [
    "model.eval()\n",
    "loss = 0\n",
    "batch = 0\n",
    "original = []\n",
    "predi = []\n",
    "with torch.no_grad():\n",
    "    for data, label in test_loader:\n",
    "        pred = model.forward(data)\n",
    "        original.extend(label.tolist())\n",
    "        predi.extend(pred[0].reshape(1,-1).tolist())\n",
    "        loss += loss_func(pred,label.reshape(1,-1,1))\n",
    "        print(label,pred)\n",
    "        batch+=1\n",
    "        \n",
    "    print(f\"Loss : {loss/batch}\")"
   ]
  },
  {
   "cell_type": "code",
   "execution_count": 60,
   "id": "f088d50e",
   "metadata": {},
   "outputs": [
    {
     "data": {
      "text/plain": [
       "[<matplotlib.lines.Line2D at 0x232299c1910>]"
      ]
     },
     "execution_count": 60,
     "metadata": {},
     "output_type": "execute_result"
    },
    {
     "data": {
      "image/png": "[encoded data removed]",
      "text/plain": [
       "<Figure size 432x288 with 1 Axes>"
      ]
     },
     "metadata": {
      "needs_background": "light"
     },
     "output_type": "display_data"
    }
   ],
   "source": [
    "test = []\n",
    "for i in predi:\n",
    "    test.extend(i)\n",
    "\n",
    "#test = [int(i) for i in test]\n",
    "plt.plot(original)\n",
    "plt.plot(test)"
   ]
  },
  {
   "cell_type": "markdown",
   "id": "a00f0e62",
   "metadata": {},
   "source": [
    "## Conclusion \n"
   ]
  },
  {
   "cell_type": "code",
   "execution_count": 55,
   "id": "601fbc2b",
   "metadata": {},
   "outputs": [],
   "source": [
    "# Lstm Is working better with slight hyper-parameter tuining able to get results faster\n",
    "# Change learning rate from 0.09 to 0.01 \n",
    "# Its a many to one case"
   ]
  }
 ],
 "metadata": {
  "kernelspec": {
   "display_name": "Python 3 (ipykernel)",
   "language": "python",
   "name": "python3"
  },
  "language_info": {
   "codemirror_mode": {
    "name": "ipython",
    "version": 3
   },
   "file_extension": ".py",
   "mimetype": "text/x-python",
   "name": "python",
   "nbconvert_exporter": "python",
   "pygments_lexer": "ipython3",
   "version": "3.8.0"
  }
 },
 "nbformat": 4,
 "nbformat_minor": 5
}
